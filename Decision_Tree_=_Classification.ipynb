{
  "nbformat": 4,
  "nbformat_minor": 0,
  "metadata": {
    "colab": {
      "provenance": []
    },
    "kernelspec": {
      "name": "python3",
      "display_name": "Python 3"
    },
    "language_info": {
      "name": "python"
    }
  },
  "cells": [
    {
      "cell_type": "code",
      "source": [
        "!pip install pydataset"
      ],
      "metadata": {
        "colab": {
          "base_uri": "https://localhost:8080/"
        },
        "id": "3Gm4HjD5_MOn",
        "outputId": "e99f5a3f-282e-4a4e-9e3f-9c8a946148c1"
      },
      "execution_count": null,
      "outputs": [
        {
          "output_type": "stream",
          "name": "stdout",
          "text": [
            "Looking in indexes: https://pypi.org/simple, https://us-python.pkg.dev/colab-wheels/public/simple/\n",
            "Collecting pydataset\n",
            "  Downloading pydataset-0.2.0.tar.gz (15.9 MB)\n",
            "\u001b[K     |████████████████████████████████| 15.9 MB 34.2 MB/s \n",
            "\u001b[?25hRequirement already satisfied: pandas in /usr/local/lib/python3.8/dist-packages (from pydataset) (1.3.5)\n",
            "Requirement already satisfied: python-dateutil>=2.7.3 in /usr/local/lib/python3.8/dist-packages (from pandas->pydataset) (2.8.2)\n",
            "Requirement already satisfied: numpy>=1.17.3 in /usr/local/lib/python3.8/dist-packages (from pandas->pydataset) (1.21.6)\n",
            "Requirement already satisfied: pytz>=2017.3 in /usr/local/lib/python3.8/dist-packages (from pandas->pydataset) (2022.6)\n",
            "Requirement already satisfied: six>=1.5 in /usr/local/lib/python3.8/dist-packages (from python-dateutil>=2.7.3->pandas->pydataset) (1.15.0)\n",
            "Building wheels for collected packages: pydataset\n",
            "  Building wheel for pydataset (setup.py) ... \u001b[?25l\u001b[?25hdone\n",
            "  Created wheel for pydataset: filename=pydataset-0.2.0-py3-none-any.whl size=15939432 sha256=141919887d199a049a6b65f465838b67e3c97924635ea2e88482e3549e48096e\n",
            "  Stored in directory: /root/.cache/pip/wheels/d7/e5/36/85d319586b4a405d001029d489102f526ce5546248c295932a\n",
            "Successfully built pydataset\n",
            "Installing collected packages: pydataset\n",
            "Successfully installed pydataset-0.2.0\n"
          ]
        }
      ]
    },
    {
      "cell_type": "code",
      "execution_count": null,
      "metadata": {
        "id": "XDm_OXmI-VuM"
      },
      "outputs": [],
      "source": [
        "import pandas as pd\n",
        "from pydataset import data\n",
        "from sklearn.model_selection import train_test_split\n",
        "from sklearn import metrics\n",
        "from sklearn import tree"
      ]
    },
    {
      "cell_type": "code",
      "source": [
        "df = data('cancer')\n",
        "df.info()"
      ],
      "metadata": {
        "colab": {
          "base_uri": "https://localhost:8080/"
        },
        "id": "qB_myV_u-1-Q",
        "outputId": "84188704-d81f-495f-b262-6b739b8444c5"
      },
      "execution_count": null,
      "outputs": [
        {
          "output_type": "stream",
          "name": "stdout",
          "text": [
            "<class 'pandas.core.frame.DataFrame'>\n",
            "Int64Index: 228 entries, 1 to 228\n",
            "Data columns (total 10 columns):\n",
            " #   Column     Non-Null Count  Dtype  \n",
            "---  ------     --------------  -----  \n",
            " 0   inst       227 non-null    float64\n",
            " 1   time       228 non-null    int64  \n",
            " 2   status     228 non-null    int64  \n",
            " 3   age        228 non-null    int64  \n",
            " 4   sex        228 non-null    int64  \n",
            " 5   ph.ecog    227 non-null    float64\n",
            " 6   ph.karno   227 non-null    float64\n",
            " 7   pat.karno  225 non-null    float64\n",
            " 8   meal.cal   181 non-null    float64\n",
            " 9   wt.loss    214 non-null    float64\n",
            "dtypes: float64(6), int64(4)\n",
            "memory usage: 19.6 KB\n"
          ]
        }
      ]
    },
    {
      "cell_type": "code",
      "source": [
        "df=df.dropna()\n"
      ],
      "metadata": {
        "id": "iUei6REC_na2"
      },
      "execution_count": null,
      "outputs": []
    },
    {
      "cell_type": "code",
      "source": [
        "pd.crosstab( index =df[\"status\"] , columns='counts')"
      ],
      "metadata": {
        "colab": {
          "base_uri": "https://localhost:8080/",
          "height": 143
        },
        "id": "vTWt-01-AN9k",
        "outputId": "8a3cdd1d-25c7-444d-eb5a-b7483d422e8b"
      },
      "execution_count": null,
      "outputs": [
        {
          "output_type": "execute_result",
          "data": {
            "text/plain": [
              "col_0   counts\n",
              "status        \n",
              "1           47\n",
              "2          120"
            ],
            "text/html": [
              "\n",
              "  <div id=\"df-2c23936b-73eb-4010-8839-4cd1a010965b\">\n",
              "    <div class=\"colab-df-container\">\n",
              "      <div>\n",
              "<style scoped>\n",
              "    .dataframe tbody tr th:only-of-type {\n",
              "        vertical-align: middle;\n",
              "    }\n",
              "\n",
              "    .dataframe tbody tr th {\n",
              "        vertical-align: top;\n",
              "    }\n",
              "\n",
              "    .dataframe thead th {\n",
              "        text-align: right;\n",
              "    }\n",
              "</style>\n",
              "<table border=\"1\" class=\"dataframe\">\n",
              "  <thead>\n",
              "    <tr style=\"text-align: right;\">\n",
              "      <th>col_0</th>\n",
              "      <th>counts</th>\n",
              "    </tr>\n",
              "    <tr>\n",
              "      <th>status</th>\n",
              "      <th></th>\n",
              "    </tr>\n",
              "  </thead>\n",
              "  <tbody>\n",
              "    <tr>\n",
              "      <th>1</th>\n",
              "      <td>47</td>\n",
              "    </tr>\n",
              "    <tr>\n",
              "      <th>2</th>\n",
              "      <td>120</td>\n",
              "    </tr>\n",
              "  </tbody>\n",
              "</table>\n",
              "</div>\n",
              "      <button class=\"colab-df-convert\" onclick=\"convertToInteractive('df-2c23936b-73eb-4010-8839-4cd1a010965b')\"\n",
              "              title=\"Convert this dataframe to an interactive table.\"\n",
              "              style=\"display:none;\">\n",
              "        \n",
              "  <svg xmlns=\"http://www.w3.org/2000/svg\" height=\"24px\"viewBox=\"0 0 24 24\"\n",
              "       width=\"24px\">\n",
              "    <path d=\"M0 0h24v24H0V0z\" fill=\"none\"/>\n",
              "    <path d=\"M18.56 5.44l.94 2.06.94-2.06 2.06-.94-2.06-.94-.94-2.06-.94 2.06-2.06.94zm-11 1L8.5 8.5l.94-2.06 2.06-.94-2.06-.94L8.5 2.5l-.94 2.06-2.06.94zm10 10l.94 2.06.94-2.06 2.06-.94-2.06-.94-.94-2.06-.94 2.06-2.06.94z\"/><path d=\"M17.41 7.96l-1.37-1.37c-.4-.4-.92-.59-1.43-.59-.52 0-1.04.2-1.43.59L10.3 9.45l-7.72 7.72c-.78.78-.78 2.05 0 2.83L4 21.41c.39.39.9.59 1.41.59.51 0 1.02-.2 1.41-.59l7.78-7.78 2.81-2.81c.8-.78.8-2.07 0-2.86zM5.41 20L4 18.59l7.72-7.72 1.47 1.35L5.41 20z\"/>\n",
              "  </svg>\n",
              "      </button>\n",
              "      \n",
              "  <style>\n",
              "    .colab-df-container {\n",
              "      display:flex;\n",
              "      flex-wrap:wrap;\n",
              "      gap: 12px;\n",
              "    }\n",
              "\n",
              "    .colab-df-convert {\n",
              "      background-color: #E8F0FE;\n",
              "      border: none;\n",
              "      border-radius: 50%;\n",
              "      cursor: pointer;\n",
              "      display: none;\n",
              "      fill: #1967D2;\n",
              "      height: 32px;\n",
              "      padding: 0 0 0 0;\n",
              "      width: 32px;\n",
              "    }\n",
              "\n",
              "    .colab-df-convert:hover {\n",
              "      background-color: #E2EBFA;\n",
              "      box-shadow: 0px 1px 2px rgba(60, 64, 67, 0.3), 0px 1px 3px 1px rgba(60, 64, 67, 0.15);\n",
              "      fill: #174EA6;\n",
              "    }\n",
              "\n",
              "    [theme=dark] .colab-df-convert {\n",
              "      background-color: #3B4455;\n",
              "      fill: #D2E3FC;\n",
              "    }\n",
              "\n",
              "    [theme=dark] .colab-df-convert:hover {\n",
              "      background-color: #434B5C;\n",
              "      box-shadow: 0px 1px 3px 1px rgba(0, 0, 0, 0.15);\n",
              "      filter: drop-shadow(0px 1px 2px rgba(0, 0, 0, 0.3));\n",
              "      fill: #FFFFFF;\n",
              "    }\n",
              "  </style>\n",
              "\n",
              "      <script>\n",
              "        const buttonEl =\n",
              "          document.querySelector('#df-2c23936b-73eb-4010-8839-4cd1a010965b button.colab-df-convert');\n",
              "        buttonEl.style.display =\n",
              "          google.colab.kernel.accessAllowed ? 'block' : 'none';\n",
              "\n",
              "        async function convertToInteractive(key) {\n",
              "          const element = document.querySelector('#df-2c23936b-73eb-4010-8839-4cd1a010965b');\n",
              "          const dataTable =\n",
              "            await google.colab.kernel.invokeFunction('convertToInteractive',\n",
              "                                                     [key], {});\n",
              "          if (!dataTable) return;\n",
              "\n",
              "          const docLinkHtml = 'Like what you see? Visit the ' +\n",
              "            '<a target=\"_blank\" href=https://colab.research.google.com/notebooks/data_table.ipynb>data table notebook</a>'\n",
              "            + ' to learn more about interactive tables.';\n",
              "          element.innerHTML = '';\n",
              "          dataTable['output_type'] = 'display_data';\n",
              "          await google.colab.output.renderOutput(dataTable, element);\n",
              "          const docLink = document.createElement('div');\n",
              "          docLink.innerHTML = docLinkHtml;\n",
              "          element.appendChild(docLink);\n",
              "        }\n",
              "      </script>\n",
              "    </div>\n",
              "  </div>\n",
              "  "
            ]
          },
          "metadata": {},
          "execution_count": 35
        }
      ]
    },
    {
      "cell_type": "code",
      "source": [
        "df[:-3].corr()"
      ],
      "metadata": {
        "colab": {
          "base_uri": "https://localhost:8080/",
          "height": 363
        },
        "id": "3dnsqh46BF5C",
        "outputId": "c8d4b014-80ec-4cf0-cfab-42ff9181a85b"
      },
      "execution_count": null,
      "outputs": [
        {
          "output_type": "execute_result",
          "data": {
            "text/plain": [
              "               inst      time    status       age       sex   ph.ecog  \\\n",
              "inst       1.000000  0.044798 -0.098864  0.033832  0.053096  0.037900   \n",
              "time       0.044798  1.000000 -0.189780 -0.071795  0.125654 -0.184342   \n",
              "status    -0.098864 -0.189780  1.000000  0.176424 -0.209052  0.260851   \n",
              "age        0.033832 -0.071795  0.176424  1.000000 -0.132516  0.300907   \n",
              "sex        0.053096  0.125654 -0.209052 -0.132516  1.000000 -0.016785   \n",
              "ph.ecog    0.037900 -0.184342  0.260851  0.300907 -0.016785  1.000000   \n",
              "ph.karno   0.008529  0.087816 -0.179643 -0.315751 -0.002290 -0.821471   \n",
              "pat.karno  0.052077  0.181841 -0.177283 -0.239333  0.078451 -0.550445   \n",
              "meal.cal   0.096285  0.079204  0.034486 -0.243189 -0.175802 -0.108670   \n",
              "wt.loss   -0.170606  0.026106  0.032652  0.045552 -0.167133  0.176534   \n",
              "\n",
              "           ph.karno  pat.karno  meal.cal   wt.loss  \n",
              "inst       0.008529   0.052077  0.096285 -0.170606  \n",
              "time       0.087816   0.181841  0.079204  0.026106  \n",
              "status    -0.179643  -0.177283  0.034486  0.032652  \n",
              "age       -0.315751  -0.239333 -0.243189  0.045552  \n",
              "sex       -0.002290   0.078451 -0.175802 -0.167133  \n",
              "ph.ecog   -0.821471  -0.550445 -0.108670  0.176534  \n",
              "ph.karno   1.000000   0.533925  0.055906 -0.128983  \n",
              "pat.karno  0.533925   1.000000  0.172870 -0.177108  \n",
              "meal.cal   0.055906   0.172870  1.000000 -0.108475  \n",
              "wt.loss   -0.128983  -0.177108 -0.108475  1.000000  "
            ],
            "text/html": [
              "\n",
              "  <div id=\"df-fb816780-c516-492e-8f6d-69b138d3963b\">\n",
              "    <div class=\"colab-df-container\">\n",
              "      <div>\n",
              "<style scoped>\n",
              "    .dataframe tbody tr th:only-of-type {\n",
              "        vertical-align: middle;\n",
              "    }\n",
              "\n",
              "    .dataframe tbody tr th {\n",
              "        vertical-align: top;\n",
              "    }\n",
              "\n",
              "    .dataframe thead th {\n",
              "        text-align: right;\n",
              "    }\n",
              "</style>\n",
              "<table border=\"1\" class=\"dataframe\">\n",
              "  <thead>\n",
              "    <tr style=\"text-align: right;\">\n",
              "      <th></th>\n",
              "      <th>inst</th>\n",
              "      <th>time</th>\n",
              "      <th>status</th>\n",
              "      <th>age</th>\n",
              "      <th>sex</th>\n",
              "      <th>ph.ecog</th>\n",
              "      <th>ph.karno</th>\n",
              "      <th>pat.karno</th>\n",
              "      <th>meal.cal</th>\n",
              "      <th>wt.loss</th>\n",
              "    </tr>\n",
              "  </thead>\n",
              "  <tbody>\n",
              "    <tr>\n",
              "      <th>inst</th>\n",
              "      <td>1.000000</td>\n",
              "      <td>0.044798</td>\n",
              "      <td>-0.098864</td>\n",
              "      <td>0.033832</td>\n",
              "      <td>0.053096</td>\n",
              "      <td>0.037900</td>\n",
              "      <td>0.008529</td>\n",
              "      <td>0.052077</td>\n",
              "      <td>0.096285</td>\n",
              "      <td>-0.170606</td>\n",
              "    </tr>\n",
              "    <tr>\n",
              "      <th>time</th>\n",
              "      <td>0.044798</td>\n",
              "      <td>1.000000</td>\n",
              "      <td>-0.189780</td>\n",
              "      <td>-0.071795</td>\n",
              "      <td>0.125654</td>\n",
              "      <td>-0.184342</td>\n",
              "      <td>0.087816</td>\n",
              "      <td>0.181841</td>\n",
              "      <td>0.079204</td>\n",
              "      <td>0.026106</td>\n",
              "    </tr>\n",
              "    <tr>\n",
              "      <th>status</th>\n",
              "      <td>-0.098864</td>\n",
              "      <td>-0.189780</td>\n",
              "      <td>1.000000</td>\n",
              "      <td>0.176424</td>\n",
              "      <td>-0.209052</td>\n",
              "      <td>0.260851</td>\n",
              "      <td>-0.179643</td>\n",
              "      <td>-0.177283</td>\n",
              "      <td>0.034486</td>\n",
              "      <td>0.032652</td>\n",
              "    </tr>\n",
              "    <tr>\n",
              "      <th>age</th>\n",
              "      <td>0.033832</td>\n",
              "      <td>-0.071795</td>\n",
              "      <td>0.176424</td>\n",
              "      <td>1.000000</td>\n",
              "      <td>-0.132516</td>\n",
              "      <td>0.300907</td>\n",
              "      <td>-0.315751</td>\n",
              "      <td>-0.239333</td>\n",
              "      <td>-0.243189</td>\n",
              "      <td>0.045552</td>\n",
              "    </tr>\n",
              "    <tr>\n",
              "      <th>sex</th>\n",
              "      <td>0.053096</td>\n",
              "      <td>0.125654</td>\n",
              "      <td>-0.209052</td>\n",
              "      <td>-0.132516</td>\n",
              "      <td>1.000000</td>\n",
              "      <td>-0.016785</td>\n",
              "      <td>-0.002290</td>\n",
              "      <td>0.078451</td>\n",
              "      <td>-0.175802</td>\n",
              "      <td>-0.167133</td>\n",
              "    </tr>\n",
              "    <tr>\n",
              "      <th>ph.ecog</th>\n",
              "      <td>0.037900</td>\n",
              "      <td>-0.184342</td>\n",
              "      <td>0.260851</td>\n",
              "      <td>0.300907</td>\n",
              "      <td>-0.016785</td>\n",
              "      <td>1.000000</td>\n",
              "      <td>-0.821471</td>\n",
              "      <td>-0.550445</td>\n",
              "      <td>-0.108670</td>\n",
              "      <td>0.176534</td>\n",
              "    </tr>\n",
              "    <tr>\n",
              "      <th>ph.karno</th>\n",
              "      <td>0.008529</td>\n",
              "      <td>0.087816</td>\n",
              "      <td>-0.179643</td>\n",
              "      <td>-0.315751</td>\n",
              "      <td>-0.002290</td>\n",
              "      <td>-0.821471</td>\n",
              "      <td>1.000000</td>\n",
              "      <td>0.533925</td>\n",
              "      <td>0.055906</td>\n",
              "      <td>-0.128983</td>\n",
              "    </tr>\n",
              "    <tr>\n",
              "      <th>pat.karno</th>\n",
              "      <td>0.052077</td>\n",
              "      <td>0.181841</td>\n",
              "      <td>-0.177283</td>\n",
              "      <td>-0.239333</td>\n",
              "      <td>0.078451</td>\n",
              "      <td>-0.550445</td>\n",
              "      <td>0.533925</td>\n",
              "      <td>1.000000</td>\n",
              "      <td>0.172870</td>\n",
              "      <td>-0.177108</td>\n",
              "    </tr>\n",
              "    <tr>\n",
              "      <th>meal.cal</th>\n",
              "      <td>0.096285</td>\n",
              "      <td>0.079204</td>\n",
              "      <td>0.034486</td>\n",
              "      <td>-0.243189</td>\n",
              "      <td>-0.175802</td>\n",
              "      <td>-0.108670</td>\n",
              "      <td>0.055906</td>\n",
              "      <td>0.172870</td>\n",
              "      <td>1.000000</td>\n",
              "      <td>-0.108475</td>\n",
              "    </tr>\n",
              "    <tr>\n",
              "      <th>wt.loss</th>\n",
              "      <td>-0.170606</td>\n",
              "      <td>0.026106</td>\n",
              "      <td>0.032652</td>\n",
              "      <td>0.045552</td>\n",
              "      <td>-0.167133</td>\n",
              "      <td>0.176534</td>\n",
              "      <td>-0.128983</td>\n",
              "      <td>-0.177108</td>\n",
              "      <td>-0.108475</td>\n",
              "      <td>1.000000</td>\n",
              "    </tr>\n",
              "  </tbody>\n",
              "</table>\n",
              "</div>\n",
              "      <button class=\"colab-df-convert\" onclick=\"convertToInteractive('df-fb816780-c516-492e-8f6d-69b138d3963b')\"\n",
              "              title=\"Convert this dataframe to an interactive table.\"\n",
              "              style=\"display:none;\">\n",
              "        \n",
              "  <svg xmlns=\"http://www.w3.org/2000/svg\" height=\"24px\"viewBox=\"0 0 24 24\"\n",
              "       width=\"24px\">\n",
              "    <path d=\"M0 0h24v24H0V0z\" fill=\"none\"/>\n",
              "    <path d=\"M18.56 5.44l.94 2.06.94-2.06 2.06-.94-2.06-.94-.94-2.06-.94 2.06-2.06.94zm-11 1L8.5 8.5l.94-2.06 2.06-.94-2.06-.94L8.5 2.5l-.94 2.06-2.06.94zm10 10l.94 2.06.94-2.06 2.06-.94-2.06-.94-.94-2.06-.94 2.06-2.06.94z\"/><path d=\"M17.41 7.96l-1.37-1.37c-.4-.4-.92-.59-1.43-.59-.52 0-1.04.2-1.43.59L10.3 9.45l-7.72 7.72c-.78.78-.78 2.05 0 2.83L4 21.41c.39.39.9.59 1.41.59.51 0 1.02-.2 1.41-.59l7.78-7.78 2.81-2.81c.8-.78.8-2.07 0-2.86zM5.41 20L4 18.59l7.72-7.72 1.47 1.35L5.41 20z\"/>\n",
              "  </svg>\n",
              "      </button>\n",
              "      \n",
              "  <style>\n",
              "    .colab-df-container {\n",
              "      display:flex;\n",
              "      flex-wrap:wrap;\n",
              "      gap: 12px;\n",
              "    }\n",
              "\n",
              "    .colab-df-convert {\n",
              "      background-color: #E8F0FE;\n",
              "      border: none;\n",
              "      border-radius: 50%;\n",
              "      cursor: pointer;\n",
              "      display: none;\n",
              "      fill: #1967D2;\n",
              "      height: 32px;\n",
              "      padding: 0 0 0 0;\n",
              "      width: 32px;\n",
              "    }\n",
              "\n",
              "    .colab-df-convert:hover {\n",
              "      background-color: #E2EBFA;\n",
              "      box-shadow: 0px 1px 2px rgba(60, 64, 67, 0.3), 0px 1px 3px 1px rgba(60, 64, 67, 0.15);\n",
              "      fill: #174EA6;\n",
              "    }\n",
              "\n",
              "    [theme=dark] .colab-df-convert {\n",
              "      background-color: #3B4455;\n",
              "      fill: #D2E3FC;\n",
              "    }\n",
              "\n",
              "    [theme=dark] .colab-df-convert:hover {\n",
              "      background-color: #434B5C;\n",
              "      box-shadow: 0px 1px 3px 1px rgba(0, 0, 0, 0.15);\n",
              "      filter: drop-shadow(0px 1px 2px rgba(0, 0, 0, 0.3));\n",
              "      fill: #FFFFFF;\n",
              "    }\n",
              "  </style>\n",
              "\n",
              "      <script>\n",
              "        const buttonEl =\n",
              "          document.querySelector('#df-fb816780-c516-492e-8f6d-69b138d3963b button.colab-df-convert');\n",
              "        buttonEl.style.display =\n",
              "          google.colab.kernel.accessAllowed ? 'block' : 'none';\n",
              "\n",
              "        async function convertToInteractive(key) {\n",
              "          const element = document.querySelector('#df-fb816780-c516-492e-8f6d-69b138d3963b');\n",
              "          const dataTable =\n",
              "            await google.colab.kernel.invokeFunction('convertToInteractive',\n",
              "                                                     [key], {});\n",
              "          if (!dataTable) return;\n",
              "\n",
              "          const docLinkHtml = 'Like what you see? Visit the ' +\n",
              "            '<a target=\"_blank\" href=https://colab.research.google.com/notebooks/data_table.ipynb>data table notebook</a>'\n",
              "            + ' to learn more about interactive tables.';\n",
              "          element.innerHTML = '';\n",
              "          dataTable['output_type'] = 'display_data';\n",
              "          await google.colab.output.renderOutput(dataTable, element);\n",
              "          const docLink = document.createElement('div');\n",
              "          docLink.innerHTML = docLinkHtml;\n",
              "          element.appendChild(docLink);\n",
              "        }\n",
              "      </script>\n",
              "    </div>\n",
              "  </div>\n",
              "  "
            ]
          },
          "metadata": {},
          "execution_count": 37
        }
      ]
    },
    {
      "cell_type": "code",
      "source": [
        "X = df[[\"time\",\"age\",\"sex\",\"ph.ecog\",\"ph.karno\",\"pat.karno\",\"meal.cal\",\"wt.loss\"]]\n",
        "df[\"status\"] = df.status.replace(1,\"alive\")\n",
        "df[\"status\"] = df.status.replace(2 , \"dead\")\n",
        "Y = df[\"status\"]\n"
      ],
      "metadata": {
        "id": "cYtIWN0JBtdD"
      },
      "execution_count": null,
      "outputs": []
    },
    {
      "cell_type": "code",
      "source": [
        "x_train , x_test , y_train , y_test = train_test_split(X , Y , test_size = 0.33 , random_state= 0)"
      ],
      "metadata": {
        "id": "0DC1_33cE54Z"
      },
      "execution_count": null,
      "outputs": []
    },
    {
      "cell_type": "code",
      "source": [
        "clf = tree.DecisionTreeClassifier(max_depth = 3)\n",
        "clf.fit(x_train , y_train)"
      ],
      "metadata": {
        "colab": {
          "base_uri": "https://localhost:8080/"
        },
        "id": "3PcfLNBoFZUv",
        "outputId": "4f4fcddd-761f-46c4-adf9-27d7d70ba902"
      },
      "execution_count": null,
      "outputs": [
        {
          "output_type": "execute_result",
          "data": {
            "text/plain": [
              "DecisionTreeClassifier(max_depth=3)"
            ]
          },
          "metadata": {},
          "execution_count": 43
        }
      ]
    },
    {
      "cell_type": "code",
      "source": [
        "from six import StringIO\n",
        "from IPython.display import Image\n",
        "from sklearn.tree import export_graphviz\n",
        "import pydotplus\n",
        "dot_data = StringIO()\n",
        "export_graphviz(clf , out_file = dot_data ,filled = False , rounded = True , feature_names = list(x_train.columns.values), class_names = list(y_train),special_characters = True)\n",
        "graph = pydotplus.graph_from_dot_data(dot_data.getvalue())\n",
        "Image(graph.create_png())\n"
      ],
      "metadata": {
        "colab": {
          "base_uri": "https://localhost:8080/",
          "height": 594
        },
        "id": "xjvnmzcbFts-",
        "outputId": "2e69019a-60ee-4db8-9a46-cb93a2049ac6"
      },
      "execution_count": null,
      "outputs": [
        {
          "output_type": "execute_result",
          "data": {
            "image/png": "[encoded data removed]",
            "text/plain": [
              "<IPython.core.display.Image object>"
            ]
          },
          "metadata": {},
          "execution_count": 49
        }
      ]
    },
    {
      "cell_type": "code",
      "source": [
        "import numpy as np\n",
        "results=dict(zip(x_train.columns , np.round(clf.feature_importances_ ,2)))\n",
        "sorted(results.items(),key = lambda x: x[1], reverse = True)"
      ],
      "metadata": {
        "colab": {
          "base_uri": "https://localhost:8080/"
        },
        "id": "fh5p80QHImUn",
        "outputId": "34243212-53c8-44ce-ea24-e5d6df482f7b"
      },
      "execution_count": null,
      "outputs": [
        {
          "output_type": "execute_result",
          "data": {
            "text/plain": [
              "[('time', 0.84),\n",
              " ('meal.cal', 0.11),\n",
              " ('age', 0.05),\n",
              " ('sex', 0.0),\n",
              " ('ph.ecog', 0.0),\n",
              " ('ph.karno', 0.0),\n",
              " ('pat.karno', 0.0),\n",
              " ('wt.loss', 0.0)]"
            ]
          },
          "metadata": {},
          "execution_count": 50
        }
      ]
    },
    {
      "cell_type": "code",
      "source": [
        "y_train_pred = clf.predict(x_train)"
      ],
      "metadata": {
        "id": "a9TLfT3rJncq"
      },
      "execution_count": null,
      "outputs": []
    },
    {
      "cell_type": "code",
      "source": [
        "print(pd.crosstab(y_train , y_train_pred))\n",
        "round(metrics.accuracy_score(y_train , y_train_pred), 2)"
      ],
      "metadata": {
        "colab": {
          "base_uri": "https://localhost:8080/"
        },
        "id": "fUi8DYK_Jw7e",
        "outputId": "3f484f93-863f-4845-bb3b-46f954bbfe0a"
      },
      "execution_count": null,
      "outputs": [
        {
          "output_type": "stream",
          "name": "stdout",
          "text": [
            "col_0   alive  dead\n",
            "status             \n",
            "alive       4    28\n",
            "dead        0    79\n"
          ]
        },
        {
          "output_type": "execute_result",
          "data": {
            "text/plain": [
              "0.75"
            ]
          },
          "metadata": {},
          "execution_count": 53
        }
      ]
    },
    {
      "cell_type": "code",
      "source": [
        "y_pred = clf.predict(x_test)\n",
        "print(pd.crosstab(y_test , y_pred))\n",
        "round(metrics.accuracy_score(y_test, y_pred), 2)"
      ],
      "metadata": {
        "colab": {
          "base_uri": "https://localhost:8080/"
        },
        "id": "BeRFb5seKVQX",
        "outputId": "cd46423d-fbb0-4d25-b85e-a6bac7aef01b"
      },
      "execution_count": null,
      "outputs": [
        {
          "output_type": "stream",
          "name": "stdout",
          "text": [
            "col_0   alive  dead\n",
            "status             \n",
            "alive       1    14\n",
            "dead        1    40\n"
          ]
        },
        {
          "output_type": "execute_result",
          "data": {
            "text/plain": [
              "0.73"
            ]
          },
          "metadata": {},
          "execution_count": 55
        }
      ]
    },
    {
      "cell_type": "code",
      "source": [],
      "metadata": {
        "id": "O7lCXLigKv6D"
      },
      "execution_count": null,
      "outputs": []
    }
  ]
}