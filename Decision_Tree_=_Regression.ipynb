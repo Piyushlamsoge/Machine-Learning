{
  "nbformat": 4,
  "nbformat_minor": 0,
  "metadata": {
    "colab": {
      "provenance": []
    },
    "kernelspec": {
      "name": "python3",
      "display_name": "Python 3"
    },
    "language_info": {
      "name": "python"
    }
  },
  "cells": [
    {
      "cell_type": "code",
      "source": [
        "!pip install pydataset"
      ],
      "metadata": {
        "id": "t7J701X8Nwbe"
      },
      "execution_count": null,
      "outputs": []
    },
    {
      "cell_type": "code",
      "execution_count": null,
      "metadata": {
        "id": "9V_ioifeNWeZ"
      },
      "outputs": [],
      "source": [
        "import pandas as pd\n",
        "import numpy as np\n",
        "from sklearn.model_selection import train_test_split\n",
        "from pydataset import data\n",
        "import seaborn as sns\n",
        "import matplotlib.pyplot as plt\n",
        "from sklearn import tree\n",
        "from sklearn.metrics import mean_squared_error\n"
      ]
    },
    {
      "cell_type": "code",
      "source": [
        "df = data('cancer')\n",
        "df.dropna(inplace= True)\n"
      ],
      "metadata": {
        "id": "2GYnIF0mOhA9"
      },
      "execution_count": null,
      "outputs": []
    },
    {
      "cell_type": "code",
      "source": [
        "X = df[[\"time\",\"sex\",\"ph.ecog\",\"ph.karno\",\"pat.karno\",\"meal.cal\",\"wt.loss\"]]\n",
        "y = df[\"age\"]\n",
        "y"
      ],
      "metadata": {
        "id": "FEiBwqmTQFs2"
      },
      "execution_count": null,
      "outputs": []
    },
    {
      "cell_type": "code",
      "source": [
        "x_train , x_test , y_train , y_test = train_test_split(X , y , test_size = 0.33 , random_state= 0)"
      ],
      "metadata": {
        "id": "HGIlEosZO9my"
      },
      "execution_count": null,
      "outputs": []
    },
    {
      "cell_type": "code",
      "source": [
        "reg = tree.DecisionTreeRegressor(max_depth = 3)\n",
        "reg = reg.fit(x_train , y_train)"
      ],
      "metadata": {
        "id": "g7dgrHDBPG47"
      },
      "execution_count": null,
      "outputs": []
    },
    {
      "cell_type": "code",
      "source": [
        "from sklearn.metrics import mean_squared_error\n",
        "\n",
        "pre_test = mean_squared_error(y_test,reg.predict(x_test))\n",
        "pre_test"
      ],
      "metadata": {
        "colab": {
          "base_uri": "https://localhost:8080/"
        },
        "id": "mXPdczHUOYr4",
        "outputId": "b1ad4269-a175-4e9b-d6b2-c5ba71bbe16a"
      },
      "execution_count": null,
      "outputs": [
        {
          "output_type": "execute_result",
          "data": {
            "text/plain": [
              "98.46891596713849"
            ]
          },
          "metadata": {},
          "execution_count": 21
        }
      ]
    }
  ]
}