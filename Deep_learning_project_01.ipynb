{
  "nbformat": 4,
  "nbformat_minor": 0,
  "metadata": {
    "colab": {
      "provenance": []
    },
    "kernelspec": {
      "name": "python3",
      "display_name": "Python 3"
    },
    "language_info": {
      "name": "python"
    }
  },
  "cells": [
    {
      "cell_type": "markdown",
      "source": [
        "## *First deep learning Project*"
      ],
      "metadata": {
        "id": "buE3EJ9IPrO6"
      }
    },
    {
      "cell_type": "code",
      "source": [
        "#import all nacessary modules\n",
        "from numpy import loadtxt\n",
        "import pandas as pd\n",
        "from pandas import read_csv\n",
        "from tensorflow.keras.models import Sequential\n",
        "from tensorflow.keras.layers import Dense"
      ],
      "metadata": {
        "id": "bLyTk6CBxmP7"
      },
      "execution_count": 21,
      "outputs": []
    },
    {
      "cell_type": "code",
      "source": [
        "#import the dataset for the project\n",
        "dataset = loadtxt('https://raw.githubusercontent.com/jbrownlee/Datasets/master/pima-indians-diabetes.data.csv' , delimiter = ',')\n",
        "dataset\n"
      ],
      "metadata": {
        "id": "WFjo4StdQU4R"
      },
      "execution_count": null,
      "outputs": []
    },
    {
      "cell_type": "code",
      "source": [
        "#split dataset into training and testing version\n",
        "X = dataset[:,0:8]\n",
        "X\n",
        "Y = dataset[:,8]\n",
        "Y"
      ],
      "metadata": {
        "id": "3iUv4P7wQk6Q"
      },
      "execution_count": null,
      "outputs": []
    },
    {
      "cell_type": "code",
      "source": [
        "#Define keras model\n",
        "model =  Sequential()\n",
        "model.add(Dense(12 , input_shape = (8,), activation = 'relu'))\n",
        "model.add(Dense(8 , activation='relu'))\n",
        "model.add(Dense(1 , activation = 'sigmoid'))\n"
      ],
      "metadata": {
        "id": "e7AjzwARQ7ch"
      },
      "execution_count": 11,
      "outputs": []
    },
    {
      "cell_type": "code",
      "source": [
        "#compile the model\n",
        "model.compile(loss = 'binary_crossentropy' , optimizer = 'adam' )"
      ],
      "metadata": {
        "id": "6OGz4Bi8Se-K"
      },
      "execution_count": 15,
      "outputs": []
    },
    {
      "cell_type": "code",
      "source": [
        "#fit the model\n",
        "model.fit(X , Y , epochs = 150 , batch_size = 15 )\n",
        "accuracy = model.evaluate(X, Y)\n",
        "print('Accuracy: %.2f' % (accuracy*100))"
      ],
      "metadata": {
        "id": "fnhYOKyNTbAy"
      },
      "execution_count": null,
      "outputs": []
    },
    {
      "cell_type": "code",
      "source": [
        "# make class predictions with the model\n",
        "predictions = (model.predict(X) > 0.5).astype(int)\n",
        "# summarize the first 5 cases\n",
        "for i in range(5):\n",
        "\tprint('%s => %d (expected %d)' % (X[i].tolist(), predictions[i], Y[i]))"
      ],
      "metadata": {
        "colab": {
          "base_uri": "https://localhost:8080/"
        },
        "id": "ecCbN1TYT5ZS",
        "outputId": "fc5731fd-e8a5-4020-f9bf-95074885b029"
      },
      "execution_count": 26,
      "outputs": [
        {
          "output_type": "stream",
          "name": "stdout",
          "text": [
            "24/24 [==============================] - 0s 1ms/step\n",
            "[6.0, 148.0, 72.0, 35.0, 0.0, 33.6, 0.627, 50.0] => 1 (expected 1)\n",
            "[1.0, 85.0, 66.0, 29.0, 0.0, 26.6, 0.351, 31.0] => 0 (expected 0)\n",
            "[8.0, 183.0, 64.0, 0.0, 0.0, 23.3, 0.672, 32.0] => 1 (expected 1)\n",
            "[1.0, 89.0, 66.0, 23.0, 94.0, 28.1, 0.167, 21.0] => 0 (expected 0)\n",
            "[0.0, 137.0, 40.0, 35.0, 168.0, 43.1, 2.288, 33.0] => 1 (expected 1)\n"
          ]
        }
      ]
    }
  ]
}