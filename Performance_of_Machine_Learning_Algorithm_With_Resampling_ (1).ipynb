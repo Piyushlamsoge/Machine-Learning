{
  "nbformat": 4,
  "nbformat_minor": 0,
  "metadata": {
    "colab": {
      "provenance": []
    },
    "kernelspec": {
      "name": "python3",
      "display_name": "Python 3"
    },
    "language_info": {
      "name": "python"
    }
  },
  "cells": [
    {
      "cell_type": "markdown",
      "source": [
        "# *Resampling Techniques (train_test_split)*"
      ],
      "metadata": {
        "id": "eBydd0aSrodn"
      }
    },
    {
      "cell_type": "code",
      "source": [
        "#Split into train and test sets\n",
        "import pandas as pd\n",
        "from pandas import read_csv\n",
        "from sklearn.model_selection import train_test_split\n",
        "from sklearn.linear_model import LogisticRegression\n",
        "from sklearn.datasets import load_iris"
      ],
      "metadata": {
        "id": "gTC4-bwFrk1l"
      },
      "execution_count": 2,
      "outputs": []
    },
    {
      "cell_type": "code",
      "source": [
        "\n",
        "filename = pd.read_csv(\"/content/diabetes.csv\")\n",
        "describe = filename.describe()\n",
        "filename.values\n",
        "\n"
      ],
      "metadata": {
        "id": "dmoBwl6-70E2"
      },
      "execution_count": null,
      "outputs": []
    },
    {
      "cell_type": "code",
      "source": [
        " array = filename.values\n",
        " X = array[:,:8] #X contains all features values \n",
        " Y = array[:,7:8] #Y contains only label value\n",
        " Y.shape\n",
        " \n",
        " "
      ],
      "metadata": {
        "id": "yZLQxjV173u4"
      },
      "execution_count": null,
      "outputs": []
    },
    {
      "cell_type": "code",
      "source": [
        "X_train , X_test , Y_train , Y_test = train_test_split(X , Y , test_size = 0.33 , random_state = 7)\n",
        "model = LogisticRegression()\n",
        "fit = model.fit(X_train ,  Y_train)\n",
        "result = model.score(X_test , Y_test)\n",
        "print(\"Accuracy : \" , result*100.0)"
      ],
      "metadata": {
        "id": "p26lQo4cBf-x"
      },
      "execution_count": null,
      "outputs": []
    },
    {
      "cell_type": "code",
      "source": [],
      "metadata": {
        "id": "Zxxy4TCZDLns"
      },
      "execution_count": 33,
      "outputs": []
    },
    {
      "cell_type": "code",
      "source": [],
      "metadata": {
        "id": "h8x7OLYER86W"
      },
      "execution_count": null,
      "outputs": []
    },
    {
      "cell_type": "markdown",
      "source": [],
      "metadata": {
        "id": "b8C6QJLvW6gp"
      }
    },
    {
      "cell_type": "markdown",
      "source": [
        "# *K - Fold Cross Validation*"
      ],
      "metadata": {
        "id": "anodd1-0XBJ2"
      }
    },
    {
      "cell_type": "code",
      "source": [
        "from sklearn.model_selection import KFold\n",
        "from sklearn.model_selection import cross_val_score\n"
      ],
      "metadata": {
        "id": "HRmlLnEBXOma"
      },
      "execution_count": 34,
      "outputs": []
    },
    {
      "cell_type": "code",
      "source": [
        "filename = pd.read_csv(\"/content/diabetes.csv\")\n",
        "\n",
        "filename.values\n",
        "X = array[:,:8] #X contains all features values \n",
        "Y = array[:,7:8] #Y contains only label value\n",
        "Y.shape\n"
      ],
      "metadata": {
        "id": "yqBso9Y2Xk6L"
      },
      "execution_count": null,
      "outputs": []
    },
    {
      "cell_type": "code",
      "source": [
        "num_folds = 10\n",
        "kfold = KFold(n_splits = 10,shuffle = True , random_state = 7)\n",
        "model = LogisticRegression()\n",
        "results_kfold = cross_val_score(model , X , Y , cv = kfold )\n",
        "print(\"mean :\" , results_kfold.mean()*100 , \"standard deviation : \" , results_kfold.std()*100)"
      ],
      "metadata": {
        "id": "y9qgxBCmXy-g"
      },
      "execution_count": null,
      "outputs": []
    },
    {
      "cell_type": "markdown",
      "source": [
        "# *Leave One Out Cross Validation*"
      ],
      "metadata": {
        "id": "zdj5AYr1Z-nK"
      }
    },
    {
      "cell_type": "code",
      "source": [
        "from sklearn.model_selection import LeaveOneOut\n"
      ],
      "metadata": {
        "id": "t_EYKMdnaIjV"
      },
      "execution_count": 43,
      "outputs": []
    },
    {
      "cell_type": "code",
      "source": [
        "loocv = LeaveOneOut()\n",
        "result_loocv = cross_val_score(model , X , Y , cv =loocv)\n",
        "print(\"mean : \" , result_loocv.mean()*100 , \"standard deviation : \" , result_loocv.std()*100) # this takes little time to show results"
      ],
      "metadata": {
        "id": "r1somr12aWv_"
      },
      "execution_count": null,
      "outputs": []
    },
    {
      "cell_type": "markdown",
      "source": [
        "# *Repeated Random Test-Train Splits*"
      ],
      "metadata": {
        "id": "Rr_DVv6VevRj"
      }
    },
    {
      "cell_type": "code",
      "source": [
        "from sklearn.model_selection import ShuffleSplit"
      ],
      "metadata": {
        "id": "m_vbuIh0euh0"
      },
      "execution_count": 47,
      "outputs": []
    },
    {
      "cell_type": "code",
      "source": [
        "kfold_shuffle = ShuffleSplit(n_splits=10,test_size = 0.33 ,random_state = 7 )\n",
        "result_shuffle = cross_val_score(model , X , Y , cv = kfold_shuffle)\n",
        "print(\"mean : \" , result_shuffle.mean()*100 , \"standard_deviation : \" , result_shuffle.std()*100)"
      ],
      "metadata": {
        "id": "Ir_wfg3rfIh6"
      },
      "execution_count": null,
      "outputs": []
    },
    {
      "cell_type": "code",
      "source": [],
      "metadata": {
        "id": "pkNn3LL-gZrX"
      },
      "execution_count": null,
      "outputs": []
    }
  ]
}